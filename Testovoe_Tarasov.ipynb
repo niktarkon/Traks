{
  "nbformat": 4,
  "nbformat_minor": 0,
  "metadata": {
    "colab": {
      "provenance": [],
      "collapsed_sections": []
    },
    "kernelspec": {
      "name": "python3",
      "display_name": "Python 3"
    },
    "language_info": {
      "name": "python"
    }
  },
  "cells": [
    {
      "cell_type": "markdown",
      "source": [
        "**Алгоритм**\n",
        "\n",
        "Необходимо разделить весь путь каждой траектории на одинаковое количество отрезков. На стыках между каждыми двумя отрезками лежат точки. Суть алгоритма состоит в том, что дистанции между соответствующими точками из каждой траектории будут маленькие, если траектории близкие, и большие, если траектории отличаются сильно. Чем больше таких точек будет, тем более точный результат выдаст алгоритм. Этот самый результат представляет собой отношение суммы дистанций между точками к минимуму из квадратов длин траекторий. Его значение лежит в диапазоне [0; 1]. Чем ближе к нулю, тем траектории более похожи друг на друга. Чем ближе к единице - тем они различнее."
      ],
      "metadata": {
        "id": "5duZ4Ysl-czp"
      }
    },
    {
      "cell_type": "code",
      "execution_count": 50,
      "metadata": {
        "id": "a46mxi26OlXU"
      },
      "outputs": [],
      "source": [
        "import pandas as pd\n",
        "import numpy as np"
      ]
    },
    {
      "cell_type": "code",
      "source": [
        "# функция вычисления расстояния между точками\n",
        "def euclidean_distance(p1, p2):\n",
        "  return np.sqrt((p1[0] - p2[0])**2 + (p1[1] - p2[1])**2)"
      ],
      "metadata": {
        "id": "y7MwgSe2fw7-"
      },
      "execution_count": 51,
      "outputs": []
    },
    {
      "cell_type": "code",
      "source": [
        "# вычисляем дистанцию между нынешней точкой траектории и предыдущей\n",
        "dataset = pd.read_csv('traks.csv', sep =  ';')\n",
        "\n",
        "def get_prev_point_dist(row):\n",
        "  if row.name == 0 or row['track'] !=  dataset.loc[row.name-1]['track']:\n",
        "    return 0\n",
        "  prev = dataset.loc[row.name-1]\n",
        "  return euclidean_distance((prev['x'], prev['y']), (row['x'],row['y']))\n",
        "\n",
        "dataset['dist_to_prev_point'] = dataset.apply(get_prev_point_dist, axis = 1)\n",
        "dataset.head()"
      ],
      "metadata": {
        "colab": {
          "base_uri": "https://localhost:8080/",
          "height": 206
        },
        "id": "Jx4kP-KbO43w",
        "outputId": "708d2b0a-d267-49c6-b124-177c93de562d"
      },
      "execution_count": 52,
      "outputs": [
        {
          "output_type": "execute_result",
          "data": {
            "text/plain": [
              "   track      time     x    y  dist_to_prev_point\n",
              "0      1  10:32:13  1598  526            0.000000\n",
              "1      1  10:32:14  1524  544           76.157731\n",
              "2      1  10:32:15  1441  557           84.011904\n",
              "3      1  10:32:16  1357  392          185.151289\n",
              "4      1  10:32:17  1395  573          184.945938"
            ],
            "text/html": [
              "\n",
              "  <div id=\"df-a59c57c6-a2aa-4aee-a483-3b6ee2dbe84f\">\n",
              "    <div class=\"colab-df-container\">\n",
              "      <div>\n",
              "<style scoped>\n",
              "    .dataframe tbody tr th:only-of-type {\n",
              "        vertical-align: middle;\n",
              "    }\n",
              "\n",
              "    .dataframe tbody tr th {\n",
              "        vertical-align: top;\n",
              "    }\n",
              "\n",
              "    .dataframe thead th {\n",
              "        text-align: right;\n",
              "    }\n",
              "</style>\n",
              "<table border=\"1\" class=\"dataframe\">\n",
              "  <thead>\n",
              "    <tr style=\"text-align: right;\">\n",
              "      <th></th>\n",
              "      <th>track</th>\n",
              "      <th>time</th>\n",
              "      <th>x</th>\n",
              "      <th>y</th>\n",
              "      <th>dist_to_prev_point</th>\n",
              "    </tr>\n",
              "  </thead>\n",
              "  <tbody>\n",
              "    <tr>\n",
              "      <th>0</th>\n",
              "      <td>1</td>\n",
              "      <td>10:32:13</td>\n",
              "      <td>1598</td>\n",
              "      <td>526</td>\n",
              "      <td>0.000000</td>\n",
              "    </tr>\n",
              "    <tr>\n",
              "      <th>1</th>\n",
              "      <td>1</td>\n",
              "      <td>10:32:14</td>\n",
              "      <td>1524</td>\n",
              "      <td>544</td>\n",
              "      <td>76.157731</td>\n",
              "    </tr>\n",
              "    <tr>\n",
              "      <th>2</th>\n",
              "      <td>1</td>\n",
              "      <td>10:32:15</td>\n",
              "      <td>1441</td>\n",
              "      <td>557</td>\n",
              "      <td>84.011904</td>\n",
              "    </tr>\n",
              "    <tr>\n",
              "      <th>3</th>\n",
              "      <td>1</td>\n",
              "      <td>10:32:16</td>\n",
              "      <td>1357</td>\n",
              "      <td>392</td>\n",
              "      <td>185.151289</td>\n",
              "    </tr>\n",
              "    <tr>\n",
              "      <th>4</th>\n",
              "      <td>1</td>\n",
              "      <td>10:32:17</td>\n",
              "      <td>1395</td>\n",
              "      <td>573</td>\n",
              "      <td>184.945938</td>\n",
              "    </tr>\n",
              "  </tbody>\n",
              "</table>\n",
              "</div>\n",
              "      <button class=\"colab-df-convert\" onclick=\"convertToInteractive('df-a59c57c6-a2aa-4aee-a483-3b6ee2dbe84f')\"\n",
              "              title=\"Convert this dataframe to an interactive table.\"\n",
              "              style=\"display:none;\">\n",
              "        \n",
              "  <svg xmlns=\"http://www.w3.org/2000/svg\" height=\"24px\"viewBox=\"0 0 24 24\"\n",
              "       width=\"24px\">\n",
              "    <path d=\"M0 0h24v24H0V0z\" fill=\"none\"/>\n",
              "    <path d=\"M18.56 5.44l.94 2.06.94-2.06 2.06-.94-2.06-.94-.94-2.06-.94 2.06-2.06.94zm-11 1L8.5 8.5l.94-2.06 2.06-.94-2.06-.94L8.5 2.5l-.94 2.06-2.06.94zm10 10l.94 2.06.94-2.06 2.06-.94-2.06-.94-.94-2.06-.94 2.06-2.06.94z\"/><path d=\"M17.41 7.96l-1.37-1.37c-.4-.4-.92-.59-1.43-.59-.52 0-1.04.2-1.43.59L10.3 9.45l-7.72 7.72c-.78.78-.78 2.05 0 2.83L4 21.41c.39.39.9.59 1.41.59.51 0 1.02-.2 1.41-.59l7.78-7.78 2.81-2.81c.8-.78.8-2.07 0-2.86zM5.41 20L4 18.59l7.72-7.72 1.47 1.35L5.41 20z\"/>\n",
              "  </svg>\n",
              "      </button>\n",
              "      \n",
              "  <style>\n",
              "    .colab-df-container {\n",
              "      display:flex;\n",
              "      flex-wrap:wrap;\n",
              "      gap: 12px;\n",
              "    }\n",
              "\n",
              "    .colab-df-convert {\n",
              "      background-color: #E8F0FE;\n",
              "      border: none;\n",
              "      border-radius: 50%;\n",
              "      cursor: pointer;\n",
              "      display: none;\n",
              "      fill: #1967D2;\n",
              "      height: 32px;\n",
              "      padding: 0 0 0 0;\n",
              "      width: 32px;\n",
              "    }\n",
              "\n",
              "    .colab-df-convert:hover {\n",
              "      background-color: #E2EBFA;\n",
              "      box-shadow: 0px 1px 2px rgba(60, 64, 67, 0.3), 0px 1px 3px 1px rgba(60, 64, 67, 0.15);\n",
              "      fill: #174EA6;\n",
              "    }\n",
              "\n",
              "    [theme=dark] .colab-df-convert {\n",
              "      background-color: #3B4455;\n",
              "      fill: #D2E3FC;\n",
              "    }\n",
              "\n",
              "    [theme=dark] .colab-df-convert:hover {\n",
              "      background-color: #434B5C;\n",
              "      box-shadow: 0px 1px 3px 1px rgba(0, 0, 0, 0.15);\n",
              "      filter: drop-shadow(0px 1px 2px rgba(0, 0, 0, 0.3));\n",
              "      fill: #FFFFFF;\n",
              "    }\n",
              "  </style>\n",
              "\n",
              "      <script>\n",
              "        const buttonEl =\n",
              "          document.querySelector('#df-a59c57c6-a2aa-4aee-a483-3b6ee2dbe84f button.colab-df-convert');\n",
              "        buttonEl.style.display =\n",
              "          google.colab.kernel.accessAllowed ? 'block' : 'none';\n",
              "\n",
              "        async function convertToInteractive(key) {\n",
              "          const element = document.querySelector('#df-a59c57c6-a2aa-4aee-a483-3b6ee2dbe84f');\n",
              "          const dataTable =\n",
              "            await google.colab.kernel.invokeFunction('convertToInteractive',\n",
              "                                                     [key], {});\n",
              "          if (!dataTable) return;\n",
              "\n",
              "          const docLinkHtml = 'Like what you see? Visit the ' +\n",
              "            '<a target=\"_blank\" href=https://colab.research.google.com/notebooks/data_table.ipynb>data table notebook</a>'\n",
              "            + ' to learn more about interactive tables.';\n",
              "          element.innerHTML = '';\n",
              "          dataTable['output_type'] = 'display_data';\n",
              "          await google.colab.output.renderOutput(dataTable, element);\n",
              "          const docLink = document.createElement('div');\n",
              "          docLink.innerHTML = docLinkHtml;\n",
              "          element.appendChild(docLink);\n",
              "        }\n",
              "      </script>\n",
              "    </div>\n",
              "  </div>\n",
              "  "
            ]
          },
          "metadata": {},
          "execution_count": 52
        }
      ]
    },
    {
      "cell_type": "code",
      "source": [
        "coords_of_traks = {num: {'len': 0, 'points':[]} for num in dataset['track'].unique()}\n",
        "coords_of_traks"
      ],
      "metadata": {
        "colab": {
          "base_uri": "https://localhost:8080/"
        },
        "id": "bB0_gVJRP5y4",
        "outputId": "edaed278-6aa1-4f1f-ec7e-5b2c4743e405"
      },
      "execution_count": 53,
      "outputs": [
        {
          "output_type": "execute_result",
          "data": {
            "text/plain": [
              "{1: {'len': 0, 'points': []},\n",
              " 2: {'len': 0, 'points': []},\n",
              " 3: {'len': 0, 'points': []},\n",
              " 4: {'len': 0, 'points': []}}"
            ]
          },
          "metadata": {},
          "execution_count": 53
        }
      ]
    },
    {
      "cell_type": "code",
      "source": [
        "# группируем точки по номеру траектории\n",
        "for idx, row in dataset.iterrows():\n",
        "  coords_of_traks[row['track']]['points'].append([row['x'], row['y'], row['dist_to_prev_point']])\n",
        "  coords_of_traks[row['track']]['len'] += row['dist_to_prev_point']"
      ],
      "metadata": {
        "id": "a_Ncod3iRR6Q"
      },
      "execution_count": 54,
      "outputs": []
    },
    {
      "cell_type": "code",
      "source": [
        "# объект-обработчик траектории\n",
        "class TrakHandler:\n",
        "  def __init__(self, trak, trak_len, k):\n",
        "    # k - количество точек, которые алгоритму предстоит найти\n",
        "\n",
        "    self.iterator = 0 # нынешнее место нахождения объекта\n",
        "    self.trak_len = trak_len # длина траектории\n",
        "    self.trak = trak # набор точек\n",
        "    self.step_size = self.trak_len/k # размер шага\n",
        "\n",
        "    self.cure_len = 0 # текущая длина от начала траектории до последней точки,\n",
        "    # найденной объектом\n",
        "    self.cure_step = self.step_size # текущий шаг \n",
        "    self.result_point = None # последняя найденная точка\n",
        "    self.is_find_point = False # флаг найденной точки\n",
        "    self.is_done = False # флаг завершения прохода по траектории\n",
        "  \n",
        "  # функция условия увеличения шага\n",
        "  def increase_step(self):\n",
        "    if self.cure_step + self.step_size < self.trak_len:\n",
        "      self.cure_step += self.step_size\n",
        "    else:\n",
        "      self.is_done = True\n",
        "\n",
        "  # функция поиска следующей точки\n",
        "  def find_next_result_point(self, i):\n",
        "    if self.cure_len + self.trak[i][2] < self.cure_step:\n",
        "      self.cure_len += self.trak[i][2]\n",
        "      self.is_find_point = False\n",
        "      return self.is_find_point \n",
        "    coef = (self.cure_step - self.cure_len) / (self.cure_len + self.trak[i][2] - self.cure_len) \n",
        "    self.result_point = (self.trak[i][0]*coef, self.trak[i][1]*coef) # вычисляем в каком месте будет лежать следующая точка\n",
        "    self.is_find_point = True\n",
        "    return self.is_find_point \n",
        "\n",
        "# вычисление коэффициента схожести траекторий\n",
        "def calc_similarity_of_traks(k, trak1, trak2):\n",
        "  # k - количество точек на каждой траектории, trak1, trak2 - последовательности точек и дистанций между ними\n",
        "  t1 = TrakHandler(trak1['points'], trak1['len'], k)\n",
        "  t2 = TrakHandler(trak2['points'], trak2['len'], k)\n",
        "\n",
        "  sum_dist = 0. # сумма длин\n",
        "  while True:\n",
        "    while True:\n",
        "      # если в пределах следующего отрезка нет искомой точки, то делаем большой шаг вперед по первой последовательности отрезков\n",
        "      if not t1.find_next_result_point(t1.iterator) and t1.iterator < len(t1.trak):\n",
        "        t1.iterator += 1\n",
        "      # то же справедливо для второй последовательности\n",
        "      elif not t2.find_next_result_point(t2.iterator) and t2.iterator < len(t2.trak):\n",
        "        t2.iterator += 1\n",
        "      # если нашли соответствующие точки - вычисляем дистанцию между ними\n",
        "      elif t1.is_find_point and t2.is_find_point:\n",
        "        sum_dist += euclidean_distance(t1.result_point, t2.result_point)\n",
        "        break\n",
        "    t1.increase_step()\n",
        "    t2.increase_step()\n",
        "\n",
        "    if t1.is_done and t2.is_done:\n",
        "      coeff = min(t1.trak_len**2, t2.trak_len**2)\n",
        "      res = sum_dist/coeff\n",
        "      # в тех частных случаях, когда алгоритм выдает значение больше единицы, \n",
        "      # траектории либо сильно отличаются по длине, либо расстояние между\n",
        "      # траекториями больше, чем длина одной из траекторий. В любом из \n",
        "      # этих случаев траектории считаются максимально отличными друг от друга\n",
        "      # и результату сравнения присваивается значение 1.\n",
        "      if res > 1: \n",
        "        res = 1\n",
        "      return sum_dist/coeff"
      ],
      "metadata": {
        "id": "T2dZIIXgTHUR"
      },
      "execution_count": 55,
      "outputs": []
    },
    {
      "cell_type": "code",
      "source": [
        "points = 10000\n",
        "score_1_3 = calc_similarity_of_traks(points, coords_of_traks[1], coords_of_traks[3])\n",
        "score_1_2 = calc_similarity_of_traks(points, coords_of_traks[1], coords_of_traks[2])\n",
        "score_1_4 = calc_similarity_of_traks(points, coords_of_traks[1], coords_of_traks[4])\n",
        "score_2_4 = calc_similarity_of_traks(points, coords_of_traks[2], coords_of_traks[4])\n",
        "score_3_4 = calc_similarity_of_traks(points, coords_of_traks[3], coords_of_traks[4])\n",
        "\n",
        "worst = max(score_1_3, score_1_2, score_1_4, score_2_4, score_3_4)\n",
        "sum = score_1_3 + score_1_2 + score_1_4 + score_2_4 + score_3_4\n",
        "\n",
        "print('Обычная оценка / Стандартизированная оценка')\n",
        "print('1-3 score: ', score_1_3,'1-3 normalized_score', score_1_3/worst)\n",
        "print('1-2 score: ', score_1_2,'1-2 normalized_score', score_1_2/worst)\n",
        "print('1-4 score: ', score_1_4,'1-4 normalized_score', score_1_4/worst)\n",
        "print('2-4 score: ', score_2_4,'2-4 normalized_score', score_2_4/worst)\n",
        "print('3-4 score: ', score_3_4,'3-4 normalized_score', score_3_4/worst)"
      ],
      "metadata": {
        "colab": {
          "base_uri": "https://localhost:8080/"
        },
        "id": "Oh20uxzifE_L",
        "outputId": "505ecf1e-893a-4f26-da0f-0edeef2b3498"
      },
      "execution_count": 56,
      "outputs": [
        {
          "output_type": "stream",
          "name": "stdout",
          "text": [
            "Обычная оценка / Стандартизированная оценка\n",
            "1-3 score:  0.061069959441721305 1-3 normalized_score 0.2938594176016951\n",
            "1-2 score:  0.10610140618899112 1-2 normalized_score 0.5105439354216643\n",
            "1-4 score:  0.2061454031911393 1-4 normalized_score 0.9919405330672245\n",
            "2-4 score:  0.20782032422216654 2-4 normalized_score 1.0\n",
            "3-4 score:  0.1998273742277107 3-4 normalized_score 0.9615391323039651\n"
          ]
        }
      ]
    },
    {
      "cell_type": "markdown",
      "source": [
        "Как можно заметить, 1-3 похожи, 1-2 чуть менее похожи, 1/2/3-4 - сильно отличаются."
      ],
      "metadata": {
        "id": "ySUteaCjJnIk"
      }
    }
  ]
}